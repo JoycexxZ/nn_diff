{
 "cells": [
  {
   "cell_type": "code",
   "execution_count": null,
   "id": "initial_id",
   "metadata": {
    "collapsed": true,
    "jupyter": {
     "is_executing": true
    }
   },
   "outputs": [],
   "source": [
    "import torch\n",
    "import torch.nn as nn\n",
    "import torch.nn.functional as F\n",
    "\n",
    "class ConvNet2_mnist(nn.Module):\n",
    "    def __init__(self, in_channels, init='random'):\n",
    "        super(ConvNet2_mnist, self).__init__()\n",
    "        self.conv1 = nn.Conv2d(in_channels, 32, kernel_size=3, stride=2, padding=1)\n",
    "        self.conv2 = nn.Conv2d(32, 64, kernel_size=3, stride=2, padding=1)\n",
    "        self.linear = nn.Linear(576, 10)\n",
    "        \n",
    "        if init == 'gaussian':\n",
    "            self._gaussian_initialization()\n",
    "        \n",
    "    def forward(self, x):\n",
    "        x = F.relu(self.conv1(x))\n",
    "        x = F.relu(self.conv2(x))\n",
    "        x = F.avg_pool2d(x, 2)\n",
    "        x = x.view(x.size(0), -1)\n",
    "        x = self.linear(x)\n",
    "        return x\n",
    "    \n",
    "param_num = 0\n",
    "model = ConvNet2_mnist(1)\n",
    "for name, layer in model.named_parameters():\n",
    "    print(name, layer)"
   ]
  },
  {
   "cell_type": "code",
   "execution_count": 11,
   "id": "684c413413799ce9",
   "metadata": {
    "jupyter": {
     "is_executing": true
    }
   },
   "outputs": [
    {
     "name": "stdout",
     "output_type": "stream",
     "text": [
      "conv1.weight - torch.Size([32, 1, 3, 3])\n",
      "conv1.bias - torch.Size([32])\n",
      "conv2.weight - torch.Size([64, 32, 3, 3])\n",
      "conv2.bias - torch.Size([64])\n",
      "linear.weight - torch.Size([10, 576])\n",
      "linear.bias - torch.Size([10])\n"
     ]
    },
    {
     "data": {
      "text/plain": [
       "24586"
      ]
     },
     "execution_count": 11,
     "metadata": {},
     "output_type": "execute_result"
    }
   ],
   "source": [
    "import torch\n",
    "model_pth = \"/scratch/yufan/nn_diff/gen_param_2_gen_param_2/\"\n",
    "model = torch.load(model_pth + \"seed_200.pth\", map_location=\"cpu\")\n",
    "data = torch.Tensor([])\n",
    "for key, value in model.items():\n",
    "    print(key, \"-\", value.shape)\n",
    "    data = torch.cat((data, value.flatten()), 0)\n",
    "len(data)"
   ]
  },
  {
   "cell_type": "code",
   "execution_count": 13,
   "id": "93299f00",
   "metadata": {},
   "outputs": [],
   "source": [
    "import torch.nn as nn\n",
    "from torchvision import transforms\n",
    "from torch.utils.data import DataLoader\n",
    "from torchvision import datasets\n",
    "import torch.nn.functional as F\n",
    "\n",
    "class ConvNet2_mnist(nn.Module):\n",
    "    def __init__(self, in_channels, init='random'):\n",
    "        super(ConvNet2_mnist, self).__init__()\n",
    "        self.conv1 = nn.Conv2d(in_channels, 32, kernel_size=3, stride=2, padding=1)\n",
    "        self.conv2 = nn.Conv2d(32, 64, kernel_size=3, stride=2, padding=1)\n",
    "        self.linear = nn.Linear(576, 10)\n",
    "        \n",
    "        if init == 'gaussian':\n",
    "            self._gaussian_initialization()\n",
    "        \n",
    "    def forward(self, x):\n",
    "        x = F.relu(self.conv1(x))\n",
    "        x = F.relu(self.conv2(x))\n",
    "        x = F.avg_pool2d(x, 2)\n",
    "        x = x.view(x.size(0), -1)\n",
    "        x = self.linear(x)\n",
    "        return x\n",
    "    \n",
    "    def _gaussian_initialization(self):\n",
    "        for m in self.modules():\n",
    "            if isinstance(m, nn.Conv2d):\n",
    "                nn.init.normal_(m.weight, mean=0, std=0.01)\n",
    "                nn.init.normal_(m.bias, mean=0, std=0.01)\n",
    "            elif isinstance(m, nn.Linear):\n",
    "                nn.init.normal_(m.weight, mean=0, std=0.01)\n",
    "                nn.init.normal_(m.bias, mean=0, std=0.01)\n",
    "                \n",
    "def test(model, test_loader):\n",
    "    total_correct = 0\n",
    "    model.eval()\n",
    "    for images, labels in test_loader:\n",
    "        images, labels = images.cuda(), labels.cuda()\n",
    "        outputs = model(images)\n",
    "        pred_labels = torch.argmax(outputs, dim=1)\n",
    "\n",
    "        matches = pred_labels.eq(labels).float()\n",
    "        correct = matches.sum().item()\n",
    "\n",
    "        total_correct += correct\n",
    "\n",
    "    accuracy = total_correct / len(test_loader.dataset)\n",
    "    return accuracy\n",
    "\n",
    "test_transform = transforms.Compose([\n",
    "                                    transforms.ToTensor(),\n",
    "                                    transforms.Normalize((0.1307,), (0.3081,))\n",
    "                                ])\n",
    "\n",
    "test_dataset = datasets.MNIST(root='/scratch/datasets/mnist', train=False, transform=test_transform, download=True)\n",
    "test_loader = DataLoader(dataset=test_dataset, batch_size=1000, shuffle=False)"
   ]
  },
  {
   "cell_type": "code",
   "execution_count": 15,
   "id": "7235c285",
   "metadata": {},
   "outputs": [
    {
     "name": "stdout",
     "output_type": "stream",
     "text": [
      "conv1.weight torch.Size([32, 1, 3, 3])\n",
      "torch.Size([288])\n",
      "conv1.bias torch.Size([32])\n",
      "torch.Size([32])\n",
      "conv2.weight torch.Size([64, 32, 3, 3])\n",
      "torch.Size([18432])\n",
      "conv2.bias torch.Size([64])\n",
      "torch.Size([64])\n",
      "linear.weight torch.Size([10, 576])\n",
      "torch.Size([5760])\n",
      "linear.bias torch.Size([10])\n",
      "torch.Size([10])\n"
     ]
    },
    {
     "data": {
      "text/plain": [
       "0.9667"
      ]
     },
     "execution_count": 15,
     "metadata": {},
     "output_type": "execute_result"
    }
   ],
   "source": [
    "from copy import deepcopy\n",
    "net = ConvNet2_mnist(1)\n",
    "_data = deepcopy(data)\n",
    "for name, layer in net.named_parameters():\n",
    "    print(name, layer.shape)\n",
    "    layer_param = _data[:layer.numel()]\n",
    "    print(layer_param.shape)\n",
    "    layer.data = layer_param.reshape(layer.shape)\n",
    "    _data = _data[layer.numel():]\n",
    "net = net.cuda()\n",
    "    \n",
    "test(net, test_loader)"
   ]
  }
 ],
 "metadata": {
  "kernelspec": {
   "display_name": "Python 3",
   "language": "python",
   "name": "python3"
  },
  "language_info": {
   "codemirror_mode": {
    "name": "ipython",
    "version": 3
   },
   "file_extension": ".py",
   "mimetype": "text/x-python",
   "name": "python",
   "nbconvert_exporter": "python",
   "pygments_lexer": "ipython3",
   "version": "3.9.19"
  }
 },
 "nbformat": 4,
 "nbformat_minor": 5
}
