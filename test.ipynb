{
 "cells": [
  {
   "cell_type": "code",
   "execution_count": null,
   "id": "initial_id",
   "metadata": {
    "collapsed": true,
    "jupyter": {
     "is_executing": true
    }
   },
   "outputs": [],
   "source": [
    "import torch\n",
    "import torch.nn as nn\n",
    "import torch.nn.functional as F\n",
    "\n",
    "class ConvNet2_mnist(nn.Module):\n",
    "    def __init__(self, in_channels, init='random'):\n",
    "        super(ConvNet2_mnist, self).__init__()\n",
    "        self.conv1 = nn.Conv2d(in_channels, 32, kernel_size=3, stride=2, padding=1)\n",
    "        self.conv2 = nn.Conv2d(32, 64, kernel_size=3, stride=2, padding=1)\n",
    "        self.linear = nn.Linear(576, 10)\n",
    "        \n",
    "        if init == 'gaussian':\n",
    "            self._gaussian_initialization()\n",
    "        \n",
    "    def forward(self, x):\n",
    "        x = F.relu(self.conv1(x))\n",
    "        x = F.relu(self.conv2(x))\n",
    "        x = F.avg_pool2d(x, 2)\n",
    "        x = x.view(x.size(0), -1)\n",
    "        x = self.linear(x)\n",
    "        return x\n",
    "    \n",
    "param_num = 0\n",
    "model = ConvNet2_mnist(1)\n",
    "for name, layer in model.named_parameters():\n",
    "    print(name, layer)"
   ]
  },
  {
   "cell_type": "code",
   "execution_count": 4,
   "id": "684c413413799ce9",
   "metadata": {
    "jupyter": {
     "is_executing": true
    }
   },
   "outputs": [
    {
     "name": "stdout",
     "output_type": "stream",
     "text": [
      "conv1.weight - torch.Size([32, 1, 3, 3])\n",
      "conv1.bias - torch.Size([32])\n",
      "conv2.weight - torch.Size([64, 32, 3, 3])\n",
      "conv2.bias - torch.Size([64])\n",
      "linear.weight - torch.Size([10, 576])\n",
      "linear.bias - torch.Size([10])\n"
     ]
    }
   ],
   "source": [
    "import torch\n",
    "model_pth = \"/scratch/yufan/nn_diff/gen_param_2_gen_param_2/\"\n",
    "model = torch.load(model_pth + \"seed_200.pth\", map_location=\"cpu\")\n",
    "for key, value in model.items():\n",
    "    print(key, \"-\", value.shape)"
   ]
  },
  {
   "cell_type": "code",
   "execution_count": null,
   "id": "93299f00",
   "metadata": {},
   "outputs": [],
   "source": []
  }
 ],
 "metadata": {
  "kernelspec": {
   "display_name": "Python 3",
   "language": "python",
   "name": "python3"
  },
  "language_info": {
   "codemirror_mode": {
    "name": "ipython",
    "version": 3
   },
   "file_extension": ".py",
   "mimetype": "text/x-python",
   "name": "python",
   "nbconvert_exporter": "python",
   "pygments_lexer": "ipython3",
   "version": "3.9.19"
  }
 },
 "nbformat": 4,
 "nbformat_minor": 5
}
